{
  "nbformat": 4,
  "nbformat_minor": 0,
  "metadata": {
    "colab": {
      "provenance": []
    },
    "kernelspec": {
      "name": "python3",
      "display_name": "Python 3"
    },
    "language_info": {
      "name": "python"
    },
    "widgets": {
      "application/vnd.jupyter.widget-state+json": {
        "f594e316a8104b9c8d0dbf9cf2b9ed53": {
          "model_module": "@jupyter-widgets/controls",
          "model_name": "HBoxModel",
          "model_module_version": "1.5.0",
          "state": {
            "_dom_classes": [],
            "_model_module": "@jupyter-widgets/controls",
            "_model_module_version": "1.5.0",
            "_model_name": "HBoxModel",
            "_view_count": null,
            "_view_module": "@jupyter-widgets/controls",
            "_view_module_version": "1.5.0",
            "_view_name": "HBoxView",
            "box_style": "",
            "children": [
              "IPY_MODEL_f487f565017b462596e59b447aa7c50a",
              "IPY_MODEL_50b012f16df94f0cb7db809cfeda2c7d",
              "IPY_MODEL_74908cf334bf4475961f879fdf4011d3"
            ],
            "layout": "IPY_MODEL_4595743428574d2896f1d6c78426194f"
          }
        },
        "f487f565017b462596e59b447aa7c50a": {
          "model_module": "@jupyter-widgets/controls",
          "model_name": "HTMLModel",
          "model_module_version": "1.5.0",
          "state": {
            "_dom_classes": [],
            "_model_module": "@jupyter-widgets/controls",
            "_model_module_version": "1.5.0",
            "_model_name": "HTMLModel",
            "_view_count": null,
            "_view_module": "@jupyter-widgets/controls",
            "_view_module_version": "1.5.0",
            "_view_name": "HTMLView",
            "description": "",
            "description_tooltip": null,
            "layout": "IPY_MODEL_06969e3411a646dbb143657b1732a004",
            "placeholder": "​",
            "style": "IPY_MODEL_52e048c20ccd48f9ae82b796a981b4be",
            "value": "100%"
          }
        },
        "50b012f16df94f0cb7db809cfeda2c7d": {
          "model_module": "@jupyter-widgets/controls",
          "model_name": "FloatProgressModel",
          "model_module_version": "1.5.0",
          "state": {
            "_dom_classes": [],
            "_model_module": "@jupyter-widgets/controls",
            "_model_module_version": "1.5.0",
            "_model_name": "FloatProgressModel",
            "_view_count": null,
            "_view_module": "@jupyter-widgets/controls",
            "_view_module_version": "1.5.0",
            "_view_name": "ProgressView",
            "bar_style": "success",
            "description": "",
            "description_tooltip": null,
            "layout": "IPY_MODEL_309d81efe56d40e2a0d9283148bd8c2e",
            "max": 5,
            "min": 0,
            "orientation": "horizontal",
            "style": "IPY_MODEL_ddabbace629a497baa2efe93f6ee107d",
            "value": 5
          }
        },
        "74908cf334bf4475961f879fdf4011d3": {
          "model_module": "@jupyter-widgets/controls",
          "model_name": "HTMLModel",
          "model_module_version": "1.5.0",
          "state": {
            "_dom_classes": [],
            "_model_module": "@jupyter-widgets/controls",
            "_model_module_version": "1.5.0",
            "_model_name": "HTMLModel",
            "_view_count": null,
            "_view_module": "@jupyter-widgets/controls",
            "_view_module_version": "1.5.0",
            "_view_name": "HTMLView",
            "description": "",
            "description_tooltip": null,
            "layout": "IPY_MODEL_c52090f2fe2744d49842e03d124b41a5",
            "placeholder": "​",
            "style": "IPY_MODEL_05644afc5dbb4aeba0caa67dec8879f8",
            "value": " 5/5 [01:12&lt;00:00, 12.99s/it]"
          }
        },
        "4595743428574d2896f1d6c78426194f": {
          "model_module": "@jupyter-widgets/base",
          "model_name": "LayoutModel",
          "model_module_version": "1.2.0",
          "state": {
            "_model_module": "@jupyter-widgets/base",
            "_model_module_version": "1.2.0",
            "_model_name": "LayoutModel",
            "_view_count": null,
            "_view_module": "@jupyter-widgets/base",
            "_view_module_version": "1.2.0",
            "_view_name": "LayoutView",
            "align_content": null,
            "align_items": null,
            "align_self": null,
            "border": null,
            "bottom": null,
            "display": null,
            "flex": null,
            "flex_flow": null,
            "grid_area": null,
            "grid_auto_columns": null,
            "grid_auto_flow": null,
            "grid_auto_rows": null,
            "grid_column": null,
            "grid_gap": null,
            "grid_row": null,
            "grid_template_areas": null,
            "grid_template_columns": null,
            "grid_template_rows": null,
            "height": null,
            "justify_content": null,
            "justify_items": null,
            "left": null,
            "margin": null,
            "max_height": null,
            "max_width": null,
            "min_height": null,
            "min_width": null,
            "object_fit": null,
            "object_position": null,
            "order": null,
            "overflow": null,
            "overflow_x": null,
            "overflow_y": null,
            "padding": null,
            "right": null,
            "top": null,
            "visibility": null,
            "width": null
          }
        },
        "06969e3411a646dbb143657b1732a004": {
          "model_module": "@jupyter-widgets/base",
          "model_name": "LayoutModel",
          "model_module_version": "1.2.0",
          "state": {
            "_model_module": "@jupyter-widgets/base",
            "_model_module_version": "1.2.0",
            "_model_name": "LayoutModel",
            "_view_count": null,
            "_view_module": "@jupyter-widgets/base",
            "_view_module_version": "1.2.0",
            "_view_name": "LayoutView",
            "align_content": null,
            "align_items": null,
            "align_self": null,
            "border": null,
            "bottom": null,
            "display": null,
            "flex": null,
            "flex_flow": null,
            "grid_area": null,
            "grid_auto_columns": null,
            "grid_auto_flow": null,
            "grid_auto_rows": null,
            "grid_column": null,
            "grid_gap": null,
            "grid_row": null,
            "grid_template_areas": null,
            "grid_template_columns": null,
            "grid_template_rows": null,
            "height": null,
            "justify_content": null,
            "justify_items": null,
            "left": null,
            "margin": null,
            "max_height": null,
            "max_width": null,
            "min_height": null,
            "min_width": null,
            "object_fit": null,
            "object_position": null,
            "order": null,
            "overflow": null,
            "overflow_x": null,
            "overflow_y": null,
            "padding": null,
            "right": null,
            "top": null,
            "visibility": null,
            "width": null
          }
        },
        "52e048c20ccd48f9ae82b796a981b4be": {
          "model_module": "@jupyter-widgets/controls",
          "model_name": "DescriptionStyleModel",
          "model_module_version": "1.5.0",
          "state": {
            "_model_module": "@jupyter-widgets/controls",
            "_model_module_version": "1.5.0",
            "_model_name": "DescriptionStyleModel",
            "_view_count": null,
            "_view_module": "@jupyter-widgets/base",
            "_view_module_version": "1.2.0",
            "_view_name": "StyleView",
            "description_width": ""
          }
        },
        "309d81efe56d40e2a0d9283148bd8c2e": {
          "model_module": "@jupyter-widgets/base",
          "model_name": "LayoutModel",
          "model_module_version": "1.2.0",
          "state": {
            "_model_module": "@jupyter-widgets/base",
            "_model_module_version": "1.2.0",
            "_model_name": "LayoutModel",
            "_view_count": null,
            "_view_module": "@jupyter-widgets/base",
            "_view_module_version": "1.2.0",
            "_view_name": "LayoutView",
            "align_content": null,
            "align_items": null,
            "align_self": null,
            "border": null,
            "bottom": null,
            "display": null,
            "flex": null,
            "flex_flow": null,
            "grid_area": null,
            "grid_auto_columns": null,
            "grid_auto_flow": null,
            "grid_auto_rows": null,
            "grid_column": null,
            "grid_gap": null,
            "grid_row": null,
            "grid_template_areas": null,
            "grid_template_columns": null,
            "grid_template_rows": null,
            "height": null,
            "justify_content": null,
            "justify_items": null,
            "left": null,
            "margin": null,
            "max_height": null,
            "max_width": null,
            "min_height": null,
            "min_width": null,
            "object_fit": null,
            "object_position": null,
            "order": null,
            "overflow": null,
            "overflow_x": null,
            "overflow_y": null,
            "padding": null,
            "right": null,
            "top": null,
            "visibility": null,
            "width": null
          }
        },
        "ddabbace629a497baa2efe93f6ee107d": {
          "model_module": "@jupyter-widgets/controls",
          "model_name": "ProgressStyleModel",
          "model_module_version": "1.5.0",
          "state": {
            "_model_module": "@jupyter-widgets/controls",
            "_model_module_version": "1.5.0",
            "_model_name": "ProgressStyleModel",
            "_view_count": null,
            "_view_module": "@jupyter-widgets/base",
            "_view_module_version": "1.2.0",
            "_view_name": "StyleView",
            "bar_color": null,
            "description_width": ""
          }
        },
        "c52090f2fe2744d49842e03d124b41a5": {
          "model_module": "@jupyter-widgets/base",
          "model_name": "LayoutModel",
          "model_module_version": "1.2.0",
          "state": {
            "_model_module": "@jupyter-widgets/base",
            "_model_module_version": "1.2.0",
            "_model_name": "LayoutModel",
            "_view_count": null,
            "_view_module": "@jupyter-widgets/base",
            "_view_module_version": "1.2.0",
            "_view_name": "LayoutView",
            "align_content": null,
            "align_items": null,
            "align_self": null,
            "border": null,
            "bottom": null,
            "display": null,
            "flex": null,
            "flex_flow": null,
            "grid_area": null,
            "grid_auto_columns": null,
            "grid_auto_flow": null,
            "grid_auto_rows": null,
            "grid_column": null,
            "grid_gap": null,
            "grid_row": null,
            "grid_template_areas": null,
            "grid_template_columns": null,
            "grid_template_rows": null,
            "height": null,
            "justify_content": null,
            "justify_items": null,
            "left": null,
            "margin": null,
            "max_height": null,
            "max_width": null,
            "min_height": null,
            "min_width": null,
            "object_fit": null,
            "object_position": null,
            "order": null,
            "overflow": null,
            "overflow_x": null,
            "overflow_y": null,
            "padding": null,
            "right": null,
            "top": null,
            "visibility": null,
            "width": null
          }
        },
        "05644afc5dbb4aeba0caa67dec8879f8": {
          "model_module": "@jupyter-widgets/controls",
          "model_name": "DescriptionStyleModel",
          "model_module_version": "1.5.0",
          "state": {
            "_model_module": "@jupyter-widgets/controls",
            "_model_module_version": "1.5.0",
            "_model_name": "DescriptionStyleModel",
            "_view_count": null,
            "_view_module": "@jupyter-widgets/base",
            "_view_module_version": "1.2.0",
            "_view_name": "StyleView",
            "description_width": ""
          }
        }
      }
    }
  },
  "cells": [
    {
      "cell_type": "markdown",
      "source": [
        "1. Few-shot 학습을 위한 개체명 리스트 생성\n",
        "\n",
        "2. GPT-3를 사용해 개체명 리스트 확장\n",
        "\n",
        "3. GPT-3를 사용하여 확장된 개체명 인식 데이터셋 생성\n",
        "\n",
        "4. NER 모델 학습"
      ],
      "metadata": {
        "id": "Exr3wZZESJdr"
      }
    },
    {
      "cell_type": "markdown",
      "source": [
        "---\n",
        "# Install & load\n",
        "----"
      ],
      "metadata": {
        "id": "XPUwmG54RpIF"
      }
    },
    {
      "cell_type": "code",
      "source": [
        "!pip install openai"
      ],
      "metadata": {
        "colab": {
          "base_uri": "https://localhost:8080/"
        },
        "id": "A3ccyqbYVwbO",
        "outputId": "9135d9c7-7842-4aa5-a75d-62efba6dbf80"
      },
      "execution_count": 1,
      "outputs": [
        {
          "output_type": "stream",
          "name": "stdout",
          "text": [
            "Looking in indexes: https://pypi.org/simple, https://us-python.pkg.dev/colab-wheels/public/simple/\n",
            "Collecting openai\n",
            "  Downloading openai-0.27.2-py3-none-any.whl (70 kB)\n",
            "\u001b[2K     \u001b[90m━━━━━━━━━━━━━━━━━━━━━━━━━━━━━━━━━━━━━━━━\u001b[0m \u001b[32m70.1/70.1 KB\u001b[0m \u001b[31m3.1 MB/s\u001b[0m eta \u001b[36m0:00:00\u001b[0m\n",
            "\u001b[?25hRequirement already satisfied: requests>=2.20 in /usr/local/lib/python3.9/dist-packages (from openai) (2.27.1)\n",
            "Collecting aiohttp\n",
            "  Downloading aiohttp-3.8.4-cp39-cp39-manylinux_2_17_x86_64.manylinux2014_x86_64.whl (1.0 MB)\n",
            "\u001b[2K     \u001b[90m━━━━━━━━━━━━━━━━━━━━━━━━━━━━━━━━━━━━━━━━\u001b[0m \u001b[32m1.0/1.0 MB\u001b[0m \u001b[31m24.5 MB/s\u001b[0m eta \u001b[36m0:00:00\u001b[0m\n",
            "\u001b[?25hRequirement already satisfied: tqdm in /usr/local/lib/python3.9/dist-packages (from openai) (4.65.0)\n",
            "Requirement already satisfied: certifi>=2017.4.17 in /usr/local/lib/python3.9/dist-packages (from requests>=2.20->openai) (2022.12.7)\n",
            "Requirement already satisfied: idna<4,>=2.5 in /usr/local/lib/python3.9/dist-packages (from requests>=2.20->openai) (3.4)\n",
            "Requirement already satisfied: urllib3<1.27,>=1.21.1 in /usr/local/lib/python3.9/dist-packages (from requests>=2.20->openai) (1.26.15)\n",
            "Requirement already satisfied: charset-normalizer~=2.0.0 in /usr/local/lib/python3.9/dist-packages (from requests>=2.20->openai) (2.0.12)\n",
            "Collecting aiosignal>=1.1.2\n",
            "  Downloading aiosignal-1.3.1-py3-none-any.whl (7.6 kB)\n",
            "Collecting multidict<7.0,>=4.5\n",
            "  Downloading multidict-6.0.4-cp39-cp39-manylinux_2_17_x86_64.manylinux2014_x86_64.whl (114 kB)\n",
            "\u001b[2K     \u001b[90m━━━━━━━━━━━━━━━━━━━━━━━━━━━━━━━━━━━━━━━\u001b[0m \u001b[32m114.2/114.2 KB\u001b[0m \u001b[31m5.9 MB/s\u001b[0m eta \u001b[36m0:00:00\u001b[0m\n",
            "\u001b[?25hCollecting frozenlist>=1.1.1\n",
            "  Downloading frozenlist-1.3.3-cp39-cp39-manylinux_2_5_x86_64.manylinux1_x86_64.manylinux_2_17_x86_64.manylinux2014_x86_64.whl (158 kB)\n",
            "\u001b[2K     \u001b[90m━━━━━━━━━━━━━━━━━━━━━━━━━━━━━━━━━━━━━━\u001b[0m \u001b[32m158.8/158.8 KB\u001b[0m \u001b[31m12.7 MB/s\u001b[0m eta \u001b[36m0:00:00\u001b[0m\n",
            "\u001b[?25hRequirement already satisfied: attrs>=17.3.0 in /usr/local/lib/python3.9/dist-packages (from aiohttp->openai) (22.2.0)\n",
            "Collecting async-timeout<5.0,>=4.0.0a3\n",
            "  Downloading async_timeout-4.0.2-py3-none-any.whl (5.8 kB)\n",
            "Collecting yarl<2.0,>=1.0\n",
            "  Downloading yarl-1.8.2-cp39-cp39-manylinux_2_17_x86_64.manylinux2014_x86_64.whl (264 kB)\n",
            "\u001b[2K     \u001b[90m━━━━━━━━━━━━━━━━━━━━━━━━━━━━━━━━━━━━━━\u001b[0m \u001b[32m264.6/264.6 KB\u001b[0m \u001b[31m16.6 MB/s\u001b[0m eta \u001b[36m0:00:00\u001b[0m\n",
            "\u001b[?25hInstalling collected packages: multidict, frozenlist, async-timeout, yarl, aiosignal, aiohttp, openai\n",
            "Successfully installed aiohttp-3.8.4 aiosignal-1.3.1 async-timeout-4.0.2 frozenlist-1.3.3 multidict-6.0.4 openai-0.27.2 yarl-1.8.2\n"
          ]
        }
      ]
    },
    {
      "cell_type": "markdown",
      "source": [
        "[참고블로그](https://medium.com/@yongsun.yoon/%EB%8D%B0%EC%9D%B4%ED%84%B0-%EC%97%86%EC%9D%B4-ner-%EB%AA%A8%EB%8D%B8-%ED%95%99%EC%8A%B5%ED%95%98%EA%B8%B0-90c4c24953a)"
      ],
      "metadata": {
        "id": "3xy0JNZKTY1R"
      }
    },
    {
      "cell_type": "code",
      "source": [
        "import os\n",
        "import openai\n",
        "\n",
        "\n",
        "key_path = '/content/drive/MyDrive/2.Study/NER/OpenAI_Key.txt'\n",
        "\n",
        "with open(key_path, 'r') as f:\n",
        "  value = f.read()\n",
        "  \n",
        "# OpenAI Key 등록 [노출 조심]\n",
        "openai.api_key = value"
      ],
      "metadata": {
        "id": "k4s9iUhfV4KW"
      },
      "execution_count": 7,
      "outputs": []
    },
    {
      "cell_type": "code",
      "execution_count": 50,
      "metadata": {
        "id": "083Jt2ZDRLDv"
      },
      "outputs": [],
      "source": [
        "##### pytorch #####\n",
        "import torch\n",
        "import torch.nn as nn\n",
        "import torch.nn.functional as F\n",
        "import torch.optim as optim\n",
        "from torch.utils.data import DataLoader, Dataset\n",
        "\n",
        "\n",
        "##### 시각화 #####\n",
        "from PIL import Image\n",
        "import matplotlib.pyplot as plt\n",
        "import seaborn as sns \n",
        "\n",
        "##### 기본 모듈 #####\n",
        "import pandas as pd\n",
        "import numpy as np\n",
        "import os\n",
        "import random\n",
        "import json\n",
        "import math\n",
        "import easydict\n",
        "from pprint import pprint\n",
        "from sklearn.model_selection import train_test_split\n",
        "from tqdm.notebook import tqdm\n",
        "import re \n",
        "import time\n",
        "\n",
        "##### 디버깅 #####\n",
        "import pdb\n",
        "\n",
        "##### cuda #####\n",
        "device = torch.device('cuda') if torch.cuda.is_available() else torch.device('cpu') # GPU 할당\n",
        "\n",
        "##### 경고무시 #####\n",
        "import warnings\n",
        "warnings.filterwarnings(action='ignore')\n"
      ]
    },
    {
      "cell_type": "markdown",
      "source": [
        "---\n",
        "# 개체명 리스트 작성\n",
        "---"
      ],
      "metadata": {
        "id": "6Uc-jbS9TkIX"
      }
    },
    {
      "cell_type": "code",
      "source": [
        "# 예시를 위한 엔티티 생성\n",
        "\n",
        "real_entities = [\n",
        "    {\n",
        "        'class_name': 'hotel name',\n",
        "        'entity_names': [\n",
        "            'Ritz-Carlton Hotel',\n",
        "            'Marriott',\n",
        "            'The Luxury Collection Hotels & Resorts',\n",
        "            'St Regis Hotels',\n",
        "            'Hyatt'\n",
        "        ]\n",
        "    },\n",
        "\n",
        "    {\n",
        "        'class_name': 'room type',\n",
        "        'entity_names': [\n",
        "            'Single room',\n",
        "            'twin room',\n",
        "            'Double room',\n",
        "            'deluxe room',\n",
        "            'Suites',\n",
        "        ]    \n",
        "    },\n",
        "    {\n",
        "        'class_name': 'person name',\n",
        "        'entity_names': [\n",
        "            'Yongsun Yoon',\n",
        "            'Steve Adams',\n",
        "            'Donnie K. Schneider',\n",
        "            'Eleanor Lockhart',\n",
        "            'Jacqueline R. French'\n",
        "        ]\n",
        "    },\n",
        "    {\n",
        "        'class_name': 'date',\n",
        "        'entity_names': [\n",
        "            '3/4/2022',\n",
        "            'November 27th',\n",
        "            'December 15, 2023',\n",
        "            'Feb. 8',\n",
        "            'Saturday, Jul 22'\n",
        "        ]\n",
        "    },\n",
        "    {\n",
        "        'class_name': 'hotel supplies',\n",
        "        'entity_names': [\n",
        "            'shampoo',\n",
        "            'Coffee kit',\n",
        "            'towels',\n",
        "            'Wine glass',\n",
        "            'fan'\n",
        "        ]\n",
        "    }\n",
        "]"
      ],
      "metadata": {
        "id": "j83mLHQ7TWuh"
      },
      "execution_count": 10,
      "outputs": []
    },
    {
      "cell_type": "markdown",
      "source": [
        "---\n",
        "# GPT-3를 사용해 개체명 리스트 확장 \n",
        "---"
      ],
      "metadata": {
        "id": "dvppKeofTm6h"
      }
    },
    {
      "cell_type": "code",
      "source": [
        "# 모델에서 텍스트 생성 \n",
        "def generate(prompts, model='text-davinci-003', n=1, max_tokens=512):\n",
        "    response = openai.Completion.create(\n",
        "        model = model,\n",
        "        prompt = prompts, # 입력으로 사용될 문장을 지정\n",
        "        echo = False, # 입력으로 받은 문장을 다시 출력할지 여부\n",
        "        n = n, # 생성할 문장 개수\n",
        "        max_tokens = max_tokens, # 모델이 생성할 최대 토큰 수 \n",
        "        # stop = '\\n'\n",
        "    )\n",
        "    \n",
        "    # response.choices는 모델이 생성한 출력 결과를 담고 있는 리스트\n",
        "    texts = [c.text.strip() for c in response.choices]\n",
        "    return texts\n",
        "\n",
        "# 새로운 엔티티 이름을 생성하는 모델에 입력할 프롬프트 문장 생성\n",
        "def construct_entity_prompt(class_name, entity_names, k=10):\n",
        "    prompt = f'These are <{class_name}> entity names. Generate {k} new <{class_name}> entity names.\\n\\n'\n",
        "    prompt += 'Entity names:\\n'\n",
        "    for e in entity_names:\n",
        "        prompt += f'- {e}\\n'\n",
        "    prompt += '\\nGenerated names:\\n-'\n",
        "    return prompt\n",
        "\n",
        "\n",
        "# 모델이 생성한 엔티티 이름 목록을 정제하는 함수\n",
        "def postprocess_entities(synthetic_entities):\n",
        "    processed = []\n",
        "    for ents in synthetic_entities:\n",
        "        ents = f'- {ents}'.split('\\n')\n",
        "        ents = [e.split('-')[1].strip() for e in ents]\n",
        "        processed += ents\n",
        "    return processed    "
      ],
      "metadata": {
        "id": "StRuVK1oTrIw"
      },
      "execution_count": 36,
      "outputs": []
    },
    {
      "cell_type": "code",
      "source": [
        "synthetic_entities = []\n",
        "for real_ent in tqdm(real_entities):\n",
        "    class_name, entity_names = real_ent['class_name'], real_ent['entity_names']\n",
        "    # GPT 모델에 입력할 prompt 문장 생성\n",
        "    prompt = construct_entity_prompt(class_name, entity_names)\n",
        "    # 새로운 엔티티 생성 \n",
        "    syn_entities = generate(prompt, n=10)\n",
        "    # 생성된 새로운 엔티티 정제\n",
        "    syn_entities = postprocess_entities(syn_entities)\n",
        "    # 중복된 엔티티 제거\n",
        "    syn_entities = list(set(syn_entities))\n",
        "    \n",
        "    synthetic_entities.append({'class_name': class_name, 'entity_names': syn_entities})"
      ],
      "metadata": {
        "colab": {
          "base_uri": "https://localhost:8080/",
          "height": 49,
          "referenced_widgets": [
            "f594e316a8104b9c8d0dbf9cf2b9ed53",
            "f487f565017b462596e59b447aa7c50a",
            "50b012f16df94f0cb7db809cfeda2c7d",
            "74908cf334bf4475961f879fdf4011d3",
            "4595743428574d2896f1d6c78426194f",
            "06969e3411a646dbb143657b1732a004",
            "52e048c20ccd48f9ae82b796a981b4be",
            "309d81efe56d40e2a0d9283148bd8c2e",
            "ddabbace629a497baa2efe93f6ee107d",
            "c52090f2fe2744d49842e03d124b41a5",
            "05644afc5dbb4aeba0caa67dec8879f8"
          ]
        },
        "id": "0fOC-DWPbWcw",
        "outputId": "bc8972db-9942-4d6a-93dc-de71cb671818"
      },
      "execution_count": 37,
      "outputs": [
        {
          "output_type": "display_data",
          "data": {
            "text/plain": [
              "  0%|          | 0/5 [00:00<?, ?it/s]"
            ],
            "application/vnd.jupyter.widget-view+json": {
              "version_major": 2,
              "version_minor": 0,
              "model_id": "f594e316a8104b9c8d0dbf9cf2b9ed53"
            }
          },
          "metadata": {}
        }
      ]
    },
    {
      "cell_type": "code",
      "source": [
        "prompt"
      ],
      "metadata": {
        "colab": {
          "base_uri": "https://localhost:8080/",
          "height": 53
        },
        "id": "5Qfj4Fr-h_20",
        "outputId": "ea37f362-b1a5-4247-a743-bb0cee9d3137"
      },
      "execution_count": 44,
      "outputs": [
        {
          "output_type": "execute_result",
          "data": {
            "text/plain": [
              "'These are <hotel supplies> entity names. Generate 10 new <hotel supplies> entity names.\\n\\nEntity names:\\n- shampoo\\n- Coffee kit\\n- towels\\n- Wine glass\\n- fan\\n\\nGenerated names:\\n-'"
            ],
            "application/vnd.google.colaboratory.intrinsic+json": {
              "type": "string"
            }
          },
          "metadata": {},
          "execution_count": 44
        }
      ]
    },
    {
      "cell_type": "code",
      "source": [
        "synthetic_entities[0]"
      ],
      "metadata": {
        "colab": {
          "base_uri": "https://localhost:8080/"
        },
        "id": "n9u9fPyQhSEx",
        "outputId": "10a1e72d-a117-4fa9-fdee-d84a60322400"
      },
      "execution_count": 43,
      "outputs": [
        {
          "output_type": "execute_result",
          "data": {
            "text/plain": [
              "{'class_name': 'hotel name',\n",
              " 'entity_names': ['The Majestic Palace Hotel',\n",
              "  'Four Seasons Hotels & Resorts',\n",
              "  'Omni Hotels & Resorts',\n",
              "  'The Venetian Room Hotel',\n",
              "  'Park Avenue Lodge',\n",
              "  'Radisson Hotels & Suites',\n",
              "  'The Villa Suites Hotel',\n",
              "  'Grand Trump Hotel',\n",
              "  'Atlantis Beachfront Resort',\n",
              "  'The Majestic Estates Inn',\n",
              "  'The Peninsula Hotels',\n",
              "  'Sheraton Hotels',\n",
              "  'The Summit by Fairmont',\n",
              "  'Waldorf Astoria Hotels & Resorts',\n",
              "  'Intercontinental Hotels & Resorts',\n",
              "  'RoomMates Hotel',\n",
              "  'Embassy Suites Hotels',\n",
              "  'The Embassy Suites Hotel',\n",
              "  'Park Plaza Hotels & Resorts',\n",
              "  'Four Seasons Resort & Spa',\n",
              "  'Savoyard Suites and Lodgings',\n",
              "  'Hilton Hotels & Resorts',\n",
              "  'The Royal Flair Resort',\n",
              "  'The Regal Royal Resorts',\n",
              "  'Westin Hotels',\n",
              "  'Radisson Blu Resort Corniche',\n",
              "  'The Plaza Hotel',\n",
              "  'QT Hotels & Resorts',\n",
              "  'Regal Palatial Suites',\n",
              "  'Arabian Riviera Resort',\n",
              "  'The Palacial Harmony Hotel',\n",
              "  'Oakwood Manor & Suites',\n",
              "  'The Peninsula Hotels and Resorts',\n",
              "  'Loews Hotels & Resorts',\n",
              "  'Monarch Hotel & Spa',\n",
              "  'Sheraton Hotels & Resorts',\n",
              "  'The Fairmont Beachside Hotel',\n",
              "  'Elysian Towers Hotel',\n",
              "  'Regency Inn & Suites',\n",
              "  'Imperial Suites & Resorts',\n",
              "  'Hilton Simonsen Palace',\n",
              "  'Four Seasons Hotel',\n",
              "  'Plaza Royale Hotel',\n",
              "  'Scandic Hotels',\n",
              "  'W Hotels',\n",
              "  'The Conrad Hotels',\n",
              "  'The Elite Independent Resort',\n",
              "  'The Omni Comforts Retreat',\n",
              "  'Grandiose Suites and Lodging',\n",
              "  'The Westin Hotels',\n",
              "  'Quality Inn Hotel',\n",
              "  'Hilton Luxury Hotels',\n",
              "  'Grand Geneva Resort & Spa',\n",
              "  'The Celestial Star Residence',\n",
              "  'Fairfield Inn & Suites',\n",
              "  'Holiday Inn Resort',\n",
              "  'Mayfair Suites & Lodges',\n",
              "  'Crowne Plaza Hotels',\n",
              "  'Radisson Blu Hotels & Resorts',\n",
              "  'Summit Residences & Inn',\n",
              "  'Grand Palace Hotel',\n",
              "  'Grand Hotel De La Vista',\n",
              "  'Radisson Hotels & Resorts',\n",
              "  'Ibis Retreat & Inn',\n",
              "  'Cobra Crown Plaza',\n",
              "  'The Regent Splendor Hotel',\n",
              "  'Palatial Plaza Resort',\n",
              "  'Crowne Plaza Hotel',\n",
              "  'Garden Palace Resorts',\n",
              "  'The Empire Plaza Inn',\n",
              "  'Hansen Hotels',\n",
              "  'Sunburst Aquatic Resort and Suites',\n",
              "  'Grand Mercure Hotels',\n",
              "  'Grand Hyatt',\n",
              "  'Wyndham Hotels & Resorts',\n",
              "  'Avalon Suites Hotel',\n",
              "  'Cambria Suites',\n",
              "  'Palazzo Luxury Hotels & Resorts',\n",
              "  'The Peninsula Hotels & Resorts',\n",
              "  'Wyndham Resorts & Hotels',\n",
              "  'Westin Harbour Place',\n",
              "  'The Summit Prestige Inn',\n",
              "  'Taj Hotels',\n",
              "  'The Venetian Resort & Casino',\n",
              "  'Sandpoint Hotels & Suites',\n",
              "  'Rosewood Hotels & Resorts',\n",
              "  'The Ritz',\n",
              "  'Glorioso Grand Hotels',\n",
              "  'The Imperial Grand Residence',\n",
              "  'Belle Haven Resorts and Suites',\n",
              "  'Embassy Suites by Hilton',\n",
              "  'Premier Hotels & Residences',\n",
              "  'Intercontinental Hotels',\n",
              "  'The Savoy Suites',\n",
              "  'InterContinental Hotels & Resorts',\n",
              "  'The Grand Palms Resort & Spa']}"
            ]
          },
          "metadata": {},
          "execution_count": 43
        }
      ]
    },
    {
      "cell_type": "code",
      "source": [
        "# 직접 작성한 엔티티와 모델 생성 엔티티 합치기\n",
        "all_entities = []\n",
        "for real, synthetic in zip(real_entities, synthetic_entities):\n",
        "    all_entities.append({\n",
        "        'class_name': real['class_name'],\n",
        "        'entity_names': list(set(real['entity_names'] + synthetic['entity_names']))\n",
        "    })"
      ],
      "metadata": {
        "id": "7l3aXOknhpOw"
      },
      "execution_count": 45,
      "outputs": []
    },
    {
      "cell_type": "markdown",
      "source": [
        "---\n",
        "# GPT-3를 사용하여 확장된 개체명 인식 데이터셋 생성\n",
        "----"
      ],
      "metadata": {
        "id": "2mSEj5W3jV9v"
      }
    },
    {
      "cell_type": "code",
      "source": [
        "# 엔티티 리스트에서 랜덤으로 엔티티를 선택하여 반환하는 함수\n",
        "def sample_entities(all_entities, min_k=1, max_k=3):\n",
        "    k = np.random.randint(min_k, max_k+1)\n",
        "    idxs = np.random.choice(range(len(all_entities)), size=k, replace=False)\n",
        "\n",
        "    entities = []\n",
        "    for i in idxs:\n",
        "        ents = all_entities[i]\n",
        "        name = np.random.choice(ents['entity_names'])\n",
        "        entities.append({'class_name': ents['class_name'], 'entity_name': name})\n",
        "    \n",
        "    return entities\n",
        "\n",
        "# 선택된 엔티티와 문장을 GPT 모델의 입력으로 사용될 prompt 문장 생성\n",
        "def construct_sentence_prompt(entities, style='dialog'):\n",
        "    prompt = f'Generate a {style} sentence including following entities.\\n\\n'\n",
        "\n",
        "    entities_string = ', '.join([f\"{e['entity_name']}({e['class_name']})\" for e in entities])\n",
        "    prompt += f'Entities: {entities_string}\\n'\n",
        "    prompt += 'Sentence:'\n",
        "    return prompt    \n",
        "\n",
        "# 생성된 문장과 엔티티 목록을 통해 각 토큰에 대한 레이블 생성\n",
        "def construct_labels(generated, entities, class2idx):\n",
        "\n",
        "    # 생성된 문장의 길이만큼 outside 레이블로 구성된 리스트 labels을 생성\n",
        "    labels = [class2idx['outside']] * len(generated)\n",
        "    for ent in entities:\n",
        "        l = class2idx[ent['class_name']]\n",
        "        # 생성된 문장에서 현재 엔티티의 이름이 등장하는 모든 위치를 찾음\n",
        "        for span in re.finditer(ent['entity_name'].lower(), generated.lower()):\n",
        "            # 찾은 위치 값\n",
        "            s, e = span.start(), span.end()\n",
        "            labels[s] = l\n",
        "            # 찾은 위치의 해당하는 토큰들의 레이블을 현재 엔티티의 클래스 레이블로 설정\n",
        "            # 만약 l = 3, s = 10, e = 14일 경우\n",
        "            # labels[10] = 3, labels[11:14] = [4,4,4]\n",
        "            labels[s+1:e] = [l+1] * (e-s-1)\n",
        "    return labels    "
      ],
      "metadata": {
        "id": "ACWR3qQpi5el"
      },
      "execution_count": null,
      "outputs": []
    },
    {
      "cell_type": "code",
      "source": [
        "class2idx = {e['class_name']: i*2 for i, e in enumerate(all_entities)}\n",
        "class2idx['outside'] = len(class2idx) * 2\n",
        "'''index가 2씩 증가하는 이유는 \n",
        "   label을 만들 때, 엔티티 클래스를 표시하는 숫자와 \n",
        "   엔티티의 시작점을 표시하는 숫자 사이에 구분을 두기 위함'''\n",
        "\n",
        "data = []\n",
        "for _ in tqdm(range(100)):\n",
        "    batch_entities = [sample_entities(all_entities) for _ in range(10)]\n",
        "    batch_prompts = [construct_sentence_prompt(ents) for ents in batch_entities]\n",
        "    batch_generated = generate(batch_prompts, model='text-davinci-002')\n",
        "\n",
        "    for generated, entities in zip(batch_generated, batch_entities):\n",
        "        labels = construct_labels(generated, entities, class2idx)\n",
        "        data.append({'text': generated, 'labels': labels})\n",
        "\n",
        "    time.sleep(10)\n"
      ],
      "metadata": {
        "colab": {
          "base_uri": "https://localhost:8080/"
        },
        "id": "iavpFzSFmb3r",
        "outputId": "41bd6723-1fbd-465f-ee3b-edb9a5bec2df"
      },
      "execution_count": 48,
      "outputs": [
        {
          "output_type": "execute_result",
          "data": {
            "text/plain": [
              "{'hotel name': 0,\n",
              " 'room type': 2,\n",
              " 'person name': 4,\n",
              " 'date': 6,\n",
              " 'hotel supplies': 8,\n",
              " 'outside': 10}"
            ]
          },
          "metadata": {},
          "execution_count": 48
        }
      ]
    },
    {
      "cell_type": "code",
      "source": [
        "class2idx"
      ],
      "metadata": {
        "colab": {
          "base_uri": "https://localhost:8080/"
        },
        "id": "tcto5ouZmfSv",
        "outputId": "418a6ae5-a2ea-4883-bd9f-3a368c48f784"
      },
      "execution_count": 51,
      "outputs": [
        {
          "output_type": "execute_result",
          "data": {
            "text/plain": [
              "{'hotel name': 0,\n",
              " 'room type': 2,\n",
              " 'person name': 4,\n",
              " 'date': 6,\n",
              " 'hotel supplies': 8,\n",
              " 'outside': 10}"
            ]
          },
          "metadata": {},
          "execution_count": 51
        }
      ]
    },
    {
      "cell_type": "markdown",
      "source": [
        "---\n",
        "# NER 모델 학습\n",
        "----"
      ],
      "metadata": {
        "id": "eggz41_qoO53"
      }
    },
    {
      "cell_type": "code",
      "source": [],
      "metadata": {
        "id": "gJ1sawEBnDW2"
      },
      "execution_count": null,
      "outputs": []
    }
  ]
}